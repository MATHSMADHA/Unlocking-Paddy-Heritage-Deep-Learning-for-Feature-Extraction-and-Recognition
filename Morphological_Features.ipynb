{
  "nbformat": 4,
  "nbformat_minor": 0,
  "metadata": {
    "colab": {
      "provenance": [],
      "authorship_tag": "ABX9TyMuHly4CAIpgTBuGHt4d6nR",
      "include_colab_link": true
    },
    "kernelspec": {
      "name": "python3",
      "display_name": "Python 3"
    },
    "language_info": {
      "name": "python"
    }
  },
  "cells": [
    {
      "cell_type": "markdown",
      "metadata": {
        "id": "view-in-github",
        "colab_type": "text"
      },
      "source": [
        "<a href=\"https://colab.research.google.com/github/MATHSMADHA/Unlocking-Paddy-Heritage-Deep-Learning-for-Feature-Extraction-and-Recognition/blob/main/Morphological_Features.ipynb\" target=\"_parent\"><img src=\"https://colab.research.google.com/assets/colab-badge.svg\" alt=\"Open In Colab\"/></a>"
      ]
    },
    {
      "cell_type": "code",
      "execution_count": null,
      "metadata": {
        "id": "xfIDvSIREv1M"
      },
      "outputs": [],
      "source": [
        "#import cv2\n",
        "#!apt-get -qq install -y libsm6 libxext6 && pip install -q -U opencv-python\n",
        "#import cv2\n",
        "#import numpy as np\n",
        "#from matplotlib import pyplot as plt\n",
        "#from scipy import ndimage\n",
        "#from skimage import measure, color, io\n",
        "#from google.colab.patches import cv2_imshow\n",
        "\n",
        "img1 = cv2.imread(\"/content/P9.jpg\")\n",
        "img = cv2.cvtColor(img1,cv2.COLOR_BGR2GRAY)"
      ]
    },
    {
      "cell_type": "code",
      "source": [
        "pixels_to_um = 0.5 # 1 pixel = 500 nm (got this from the metadata of original image)\n",
        "\n",
        "#Threshold image to binary using OTSU. ALl thresholded pixels will be set to 255\n",
        "ret, thresh = cv2.threshold(img, 200, 255, cv2.THRESH_OTSU+cv2.THRESH_BINARY)\n"
      ],
      "metadata": {
        "id": "l1dtOP_3FCAi"
      },
      "execution_count": null,
      "outputs": []
    },
    {
      "cell_type": "code",
      "source": [
        "kernel = np.ones((3,3),np.uint8)\n",
        "opening = cv2.morphologyEx(thresh,cv2.MORPH_OPEN,kernel, iterations = 1)\n"
      ],
      "metadata": {
        "id": "qDrWl8H1FLcI"
      },
      "execution_count": null,
      "outputs": []
    },
    {
      "cell_type": "code",
      "source": [
        "cv2_imshow(opening)\n",
        "cv2.waitKey(0)"
      ],
      "metadata": {
        "colab": {
          "base_uri": "https://localhost:8080/",
          "height": 284
        },
        "id": "L7lKNc6GFOzP",
        "outputId": "9edacb87-dcce-4844-a026-0dda0f4d5bfd"
      },
      "execution_count": null,
      "outputs": [
        {
          "output_type": "display_data",
          "data": {
            "text/plain": [
              "<PIL.Image.Image image mode=L size=250x250>"
            ],
            "image/png": "[encoded data removed]"
          },
          "metadata": {}
        },
        {
          "output_type": "execute_result",
          "data": {
            "text/plain": [
              "-1"
            ]
          },
          "metadata": {},
          "execution_count": 84
        }
      ]
    },
    {
      "cell_type": "code",
      "source": [
        "regions = measure.regionprops(opening, intensity_image=thresh)\n"
      ],
      "metadata": {
        "id": "HwUB9r1cFUog"
      },
      "execution_count": null,
      "outputs": []
    },
    {
      "cell_type": "code",
      "source": [
        "regions"
      ],
      "metadata": {
        "colab": {
          "base_uri": "https://localhost:8080/"
        },
        "id": "LNglIiwJFpBV",
        "outputId": "3310047e-9ff3-4d4d-d872-e107108ebd61"
      },
      "execution_count": null,
      "outputs": [
        {
          "output_type": "execute_result",
          "data": {
            "text/plain": [
              "[<skimage.measure._regionprops.RegionProperties at 0x7bf56faa2920>]"
            ]
          },
          "metadata": {},
          "execution_count": 86
        }
      ]
    },
    {
      "cell_type": "code",
      "source": [
        "propList = ['Area',\n",
        "            'equivalent_diameter', #Added... verify if it works\n",
        "            'orientation', #Added, verify if it works. Angle btwn x-axis and major axis.\n",
        "            'MajorAxisLength',\n",
        "            'MinorAxisLength',\n",
        "            'Perimeter',\n",
        "            'MinIntensity',\n",
        "            'MeanIntensity',\n",
        "            'MaxIntensity']\n",
        "\n",
        "\n",
        "output_file = open('image_measurements9.csv', 'w')\n",
        "output_file.write('Grain #' + \",\" + \",\" + \",\".join(propList) + '\\n') #join strings in array by commas,\n",
        "#First cell to print grain number\n",
        "#Second cell blank as we will not print Label column\n",
        "\n",
        "grain_number = 1\n",
        "for region_props in regions:\n",
        "    output_file.write(str(grain_number) + ',')\n",
        "    #output cluster properties to the excel file\n",
        "#    output_file.write(str(region_props['Label']))\n",
        "    for i,prop in enumerate(propList):\n",
        "        if(prop == 'Area'):\n",
        "            to_print = region_props[prop]*pixels_to_um**2   #Convert pixel square to um square\n",
        "        elif(prop == 'orientation'):\n",
        "            to_print = region_props[prop]*57.2958  #Convert to degrees from radians\n",
        "        elif(prop.find('Intensity') < 0):          # Any prop without Intensity in its name\n",
        "            to_print = region_props[prop]*pixels_to_um\n",
        "        else:\n",
        "            to_print = region_props[prop]     #Reamining props, basically the ones with Intensity in its name\n",
        "        output_file.write(',' + str(to_print))\n",
        "    output_file.write('\\n')\n",
        "    grain_number += 1\n",
        "\n",
        "output_file.close()   #Closes the file, otherwise it would be read only."
      ],
      "metadata": {
        "id": "fj6IT8D_Fd3K"
      },
      "execution_count": null,
      "outputs": []
    }
  ]
}